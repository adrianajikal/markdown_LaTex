{
 "cells": [
  {
   "cell_type": "markdown",
   "id": "42644649",
   "metadata": {},
   "source": [
    "<span style='color:darkblue;'>**Fórmula de Bhaskara**</span>\n",
    "\n",
    "A solução para uma função de segundo grau depende das suas raízes (valores de x). Como já vimos, os coeficientes precisam ser números reais e o angular diferente de zero. Sendo assim, temos a seguinte fórmula de Bhaskara:\n",
    "\n",
    "$$x=\\frac{-b\\pm\\sqrt{b^2-4.a.c}}{2.a}$$<br>\n",
    "$$<center><em>Fórmula de Bhaskara.</em></center>$$<br>\n",
    "Para melhor compreensão o seu cálculo é dividido em duas partes: discriminante da equação e operações para determinar as raízes.\n",
    "\n",
    "**Discriminante**\n",
    "\n",
    "A figura dentro da raíz na fórmula de Bhaskara é nomeada de discriminante. Seu símbolo é a letra grega delta e apresenta a determinada fórmula:\n",
    "\n",
    "$$\\Delta=b^2-4.a.c$$<br>\n",
    "<center><em>Fórmula da Discriminante.</em></center><br>\n",
    "\n",
    "- Se o delta for maior que zero, a equação terá dois valores reais e distintos.\n",
    "- Se o delta for igual a zero, a equação terá somente um valor real ou dois resultados reais.\n",
    "- Se o delta for menor que zero, a equação não possuirá valores reais.\n",
    "\n"
   ]
  },
  {
   "cell_type": "code",
   "execution_count": null,
   "id": "2e9b76cb",
   "metadata": {},
   "outputs": [],
   "source": []
  }
 ],
 "metadata": {
  "kernelspec": {
   "display_name": "Python 3 (ipykernel)",
   "language": "python",
   "name": "python3"
  },
  "language_info": {
   "codemirror_mode": {
    "name": "ipython",
    "version": 3
   },
   "file_extension": ".py",
   "mimetype": "text/x-python",
   "name": "python",
   "nbconvert_exporter": "python",
   "pygments_lexer": "ipython3",
   "version": "3.10.16"
  },
  "toc": {
   "base_numbering": 1,
   "nav_menu": {},
   "number_sections": true,
   "sideBar": true,
   "skip_h1_title": false,
   "title_cell": "Table of Contents",
   "title_sidebar": "Contents",
   "toc_cell": false,
   "toc_position": {},
   "toc_section_display": true,
   "toc_window_display": false
  }
 },
 "nbformat": 4,
 "nbformat_minor": 5
}
